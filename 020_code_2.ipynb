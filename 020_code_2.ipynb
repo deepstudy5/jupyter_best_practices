{
 "cells": [
  {
   "cell_type": "markdown",
   "id": "e5db2f48",
   "metadata": {},
   "source": [
    "# Imports, constants & common functions"
   ]
  },
  {
   "cell_type": "code",
   "execution_count": 1,
   "id": "4d95a7bb",
   "metadata": {
    "ExecuteTime": {
     "end_time": "2024-06-04T20:46:54.198721Z",
     "start_time": "2024-06-04T20:46:54.070850Z"
    }
   },
   "outputs": [],
   "source": [
    "from pathlib import Path\n",
    "import sys\n",
    "\n",
    "sys.path.append('./src')\n",
    "from src.driver_utils import create_driver"
   ]
  },
  {
   "cell_type": "code",
   "execution_count": 4,
   "id": "2343e3ba",
   "metadata": {
    "ExecuteTime": {
     "end_time": "2024-06-04T20:37:18.644600Z",
     "start_time": "2024-06-04T20:37:18.641281Z"
    }
   },
   "outputs": [],
   "source": [
    "# Configurable constants\n",
    "DATA_DIR = Path('./data')"
   ]
  },
  {
   "cell_type": "markdown",
   "id": "754671e3",
   "metadata": {},
   "source": [
    "# Src folder demo"
   ]
  },
  {
   "cell_type": "code",
   "execution_count": 5,
   "id": "ade8078e",
   "metadata": {
    "ExecuteTime": {
     "end_time": "2024-06-04T20:49:02.536165Z",
     "start_time": "2024-06-04T20:48:27.495345Z"
    }
   },
   "outputs": [
    {
     "name": "stdout",
     "output_type": "stream",
     "text": [
      "Creating the driver\n"
     ]
    }
   ],
   "source": [
    "driver = create_driver(use_subprocess=True)"
   ]
  },
  {
   "cell_type": "markdown",
   "id": "e1872bf2",
   "metadata": {},
   "source": [
    "# Show function unwrap for debug"
   ]
  },
  {
   "cell_type": "code",
   "execution_count": null,
   "id": "5c42fc8a",
   "metadata": {},
   "outputs": [],
   "source": []
  }
 ],
 "metadata": {
  "kernelspec": {
   "display_name": "Python 3 (ipykernel)",
   "language": "python",
   "name": "python3"
  },
  "language_info": {
   "codemirror_mode": {
    "name": "ipython",
    "version": 3
   },
   "file_extension": ".py",
   "mimetype": "text/x-python",
   "name": "python",
   "nbconvert_exporter": "python",
   "pygments_lexer": "ipython3",
   "version": "3.10.0"
  }
 },
 "nbformat": 4,
 "nbformat_minor": 5
}
