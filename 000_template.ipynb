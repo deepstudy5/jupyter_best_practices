{
 "cells": [
  {
   "cell_type": "markdown",
   "id": "e5db2f48",
   "metadata": {},
   "source": [
    "# Imports, constants & common functions"
   ]
  },
  {
   "cell_type": "code",
   "execution_count": 1,
   "id": "4d95a7bb",
   "metadata": {
    "ExecuteTime": {
     "end_time": "2024-06-04T15:05:40.724965Z",
     "start_time": "2024-06-04T15:05:39.586182Z"
    }
   },
   "outputs": [],
   "source": [
    "import pandas as pd\n",
    "from pathlib import Path"
   ]
  },
  {
   "cell_type": "code",
   "execution_count": 31,
   "id": "f7227e0e",
   "metadata": {
    "ExecuteTime": {
     "end_time": "2024-06-04T15:23:06.655077Z",
     "start_time": "2024-06-04T15:23:06.648813Z"
    }
   },
   "outputs": [],
   "source": [
    "# Configurable constants\n",
    "\n",
    "# Calculated constants"
   ]
  },
  {
   "cell_type": "markdown",
   "id": "754671e3",
   "metadata": {},
   "source": [
    "# Header 1"
   ]
  },
  {
   "cell_type": "code",
   "execution_count": null,
   "id": "48de417d",
   "metadata": {},
   "outputs": [],
   "source": []
  }
 ],
 "metadata": {
  "kernelspec": {
   "display_name": "Python 3 (ipykernel)",
   "language": "python",
   "name": "python3"
  },
  "language_info": {
   "codemirror_mode": {
    "name": "ipython",
    "version": 3
   },
   "file_extension": ".py",
   "mimetype": "text/x-python",
   "name": "python",
   "nbconvert_exporter": "python",
   "pygments_lexer": "ipython3",
   "version": "3.10.0"
  }
 },
 "nbformat": 4,
 "nbformat_minor": 5
}
