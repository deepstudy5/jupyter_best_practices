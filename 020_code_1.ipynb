{
 "cells": [
  {
   "cell_type": "markdown",
   "id": "e5db2f48",
   "metadata": {},
   "source": [
    "# Imports, constants & common functions"
   ]
  },
  {
   "cell_type": "code",
   "execution_count": 1,
   "id": "4685c1de",
   "metadata": {
    "ExecuteTime": {
     "end_time": "2024-06-04T20:40:04.989313Z",
     "start_time": "2024-06-04T20:39:58.438908Z"
    }
   },
   "outputs": [],
   "source": [
    "# ! pip install undetected_chromedriver"
   ]
  },
  {
   "cell_type": "code",
   "execution_count": 2,
   "id": "3712c307",
   "metadata": {
    "ExecuteTime": {
     "end_time": "2024-06-04T20:53:18.558103Z",
     "start_time": "2024-06-04T20:53:04.608617Z"
    }
   },
   "outputs": [],
   "source": [
    "# ! pip install git+ssh://git@github.com/forcat2/forcommon.git"
   ]
  },
  {
   "cell_type": "code",
   "execution_count": 3,
   "id": "4d95a7bb",
   "metadata": {
    "ExecuteTime": {
     "end_time": "2024-06-04T20:51:32.483585Z",
     "start_time": "2024-06-04T20:51:26.190428Z"
    }
   },
   "outputs": [],
   "source": [
    "import requests\n",
    "import bs4 as bs\n",
    "from sklearn.model_selection import train_test_split\n",
    "import time\n",
    "import random\n",
    "from pathlib import Path\n",
    "import pandas as pd\n",
    "import undetected_chromedriver as uc\n",
    "\n",
    "from forcommon.time.time_utils import convert_to_seconds"
   ]
  },
  {
   "cell_type": "code",
   "execution_count": 4,
   "id": "2343e3ba",
   "metadata": {
    "ExecuteTime": {
     "end_time": "2024-06-04T20:37:18.644600Z",
     "start_time": "2024-06-04T20:37:18.641281Z"
    }
   },
   "outputs": [],
   "source": [
    "# Configurable constants\n",
    "URL_FORMAT = 'https://fragment.com/username/{name}'\n",
    "STATUS_SELECTOR = '#aj_content > main > section.tm-section.tm-auction-section > div.tm-section-header > h2 > span.tm-section-header-status'\n",
    "PRICE_SELECTOR = '#aj_content > main > section.tm-section.clearfix > div.tm-table-wrap > table > tbody > tr > td:nth-child(1) > div > div'\n",
    "\n",
    "DATA_DIR = Path('./data')"
   ]
  },
  {
   "cell_type": "markdown",
   "id": "754671e3",
   "metadata": {},
   "source": [
    "# Inconsistent variable type demo 1"
   ]
  },
  {
   "cell_type": "code",
   "execution_count": 5,
   "id": "ade8078e",
   "metadata": {
    "ExecuteTime": {
     "end_time": "2024-06-04T20:37:19.209584Z",
     "start_time": "2024-06-04T20:37:18.959258Z"
    }
   },
   "outputs": [
    {
     "name": "stdout",
     "output_type": "stream",
     "text": [
      "Status of \"angela\": Sold\n"
     ]
    }
   ],
   "source": [
    "name = 'angela'\n",
    "response = requests.get(URL_FORMAT.format(name=name))\n",
    "soup = bs.BeautifulSoup(response.text, 'html')\n",
    "status = soup.select_one(STATUS_SELECTOR)\n",
    "status_text = status.text\n",
    "print(f'Status of \"{name}\":', status_text)"
   ]
  },
  {
   "cell_type": "code",
   "execution_count": 6,
   "id": "780f4cdd",
   "metadata": {
    "ExecuteTime": {
     "end_time": "2024-06-04T20:37:19.361145Z",
     "start_time": "2024-06-04T20:37:19.211942Z"
    }
   },
   "outputs": [
    {
     "name": "stdout",
     "output_type": "stream",
     "text": [
      "Status of \"global\": Taken\n"
     ]
    }
   ],
   "source": [
    "name = 'global'\n",
    "response = requests.get(URL_FORMAT.format(name=name))\n",
    "soup = bs.BeautifulSoup(response.text, 'html')\n",
    "status = soup.select_one(STATUS_SELECTOR).text\n",
    "print(f'Status of \"{name}\":', status)"
   ]
  },
  {
   "cell_type": "markdown",
   "id": "51bd0fea",
   "metadata": {},
   "source": [
    "# Inconsistent variable type demo 2"
   ]
  },
  {
   "cell_type": "code",
   "execution_count": 7,
   "id": "f32cddab",
   "metadata": {
    "ExecuteTime": {
     "end_time": "2024-06-04T20:37:19.687146Z",
     "start_time": "2024-06-04T20:37:19.497606Z"
    }
   },
   "outputs": [
    {
     "name": "stdout",
     "output_type": "stream",
     "text": [
      "Status of \"angela\": Sold\n"
     ]
    }
   ],
   "source": [
    "name = 'angela'\n",
    "response = requests.get(URL_FORMAT.format(name=name))\n",
    "soup = bs.BeautifulSoup(response.text, 'html')\n",
    "status_element = soup.select_one(STATUS_SELECTOR)\n",
    "status_text = status_element.text\n",
    "print(f'Status of \"{name}\":', status_text)"
   ]
  },
  {
   "cell_type": "code",
   "execution_count": 8,
   "id": "ecda6266",
   "metadata": {
    "ExecuteTime": {
     "end_time": "2024-06-04T20:37:20.045639Z",
     "start_time": "2024-06-04T20:37:19.880130Z"
    }
   },
   "outputs": [
    {
     "name": "stdout",
     "output_type": "stream",
     "text": [
      "Price of \"global\": 7\n"
     ]
    }
   ],
   "source": [
    "name = 'global'\n",
    "response = requests.get(URL_FORMAT.format(name=name))\n",
    "soup = bs.BeautifulSoup(response.text, 'html')\n",
    "price = soup.select_one(PRICE_SELECTOR)\n",
    "price_text = price.text\n",
    "\n",
    "print(f'Price of \"{name}\":', price_text)"
   ]
  },
  {
   "cell_type": "markdown",
   "id": "83a2cd5a",
   "metadata": {},
   "source": [
    "# Inconsistent variable sense demo"
   ]
  },
  {
   "cell_type": "code",
   "execution_count": 9,
   "id": "164adffd",
   "metadata": {
    "ExecuteTime": {
     "end_time": "2024-06-04T20:37:20.694051Z",
     "start_time": "2024-06-04T20:37:20.691546Z"
    }
   },
   "outputs": [],
   "source": [
    "X_test = 15"
   ]
  },
  {
   "cell_type": "code",
   "execution_count": 10,
   "id": "b9879902",
   "metadata": {
    "ExecuteTime": {
     "end_time": "2024-06-04T20:37:20.940402Z",
     "start_time": "2024-06-04T20:37:20.937850Z"
    }
   },
   "outputs": [],
   "source": [
    "# ..."
   ]
  },
  {
   "cell_type": "code",
   "execution_count": 11,
   "id": "8f62a345",
   "metadata": {
    "ExecuteTime": {
     "end_time": "2024-06-04T20:37:43.288422Z",
     "start_time": "2024-06-04T20:37:43.281277Z"
    }
   },
   "outputs": [],
   "source": [
    "df = pd.DataFrame({'value': range(100)})"
   ]
  },
  {
   "cell_type": "code",
   "execution_count": 12,
   "id": "599fd4eb",
   "metadata": {
    "ExecuteTime": {
     "end_time": "2024-06-04T20:37:21.634932Z",
     "start_time": "2024-06-04T20:37:21.614743Z"
    }
   },
   "outputs": [],
   "source": [
    "X_train, X_test = train_test_split(df, test_size=0.3)"
   ]
  },
  {
   "cell_type": "markdown",
   "id": "ee4262d5",
   "metadata": {
    "ExecuteTime": {
     "end_time": "2024-06-04T20:15:00.699699Z",
     "start_time": "2024-06-04T20:15:00.696291Z"
    }
   },
   "source": [
    "# Self descriptive variables"
   ]
  },
  {
   "cell_type": "code",
   "execution_count": 13,
   "id": "3023dfa5",
   "metadata": {
    "ExecuteTime": {
     "end_time": "2024-06-04T20:19:54.254218Z",
     "start_time": "2024-06-04T20:19:54.249799Z"
    }
   },
   "outputs": [],
   "source": [
    "# used in a sense -- value to test\n",
    "X_test = 15\n",
    "# -> \n",
    "value_to_test = 15"
   ]
  },
  {
   "cell_type": "code",
   "execution_count": 14,
   "id": "4ec612d5",
   "metadata": {
    "ExecuteTime": {
     "end_time": "2024-06-04T20:20:25.744754Z",
     "start_time": "2024-06-04T20:20:25.739328Z"
    }
   },
   "outputs": [],
   "source": [
    "# Acceptable use cases of shorn names"
   ]
  },
  {
   "cell_type": "code",
   "execution_count": 15,
   "id": "b1b2b688",
   "metadata": {
    "ExecuteTime": {
     "end_time": "2024-06-04T20:28:02.127621Z",
     "start_time": "2024-06-04T20:28:00.190202Z"
    }
   },
   "outputs": [
    {
     "name": "stdout",
     "output_type": "stream",
     "text": [
      "Status of \"Adam\": Sold\n",
      "No status for Bob\n",
      "Status of \"Coty\": Available\n"
     ]
    }
   ],
   "source": [
    "#1 within relatively loops\n",
    "\n",
    "users = ['Adam', 'Bob', 'Coty']\n",
    "for u in users:\n",
    "    response = requests.get(URL_FORMAT.format(name=u))\n",
    "    soup = bs.BeautifulSoup(response.text, 'html')\n",
    "    status_element = soup.select_one(STATUS_SELECTOR)\n",
    "    if status_element is None:\n",
    "        print(f'No status for {u}')\n",
    "        continue\n",
    "    status_text = status_element.text\n",
    "    print(f'Status of \"{u}\":', status_text)\n",
    "    time.sleep(0.5)"
   ]
  },
  {
   "cell_type": "code",
   "execution_count": 16,
   "id": "93a63445",
   "metadata": {
    "ExecuteTime": {
     "end_time": "2024-06-04T20:30:31.694149Z",
     "start_time": "2024-06-04T20:30:31.690947Z"
    }
   },
   "outputs": [],
   "source": [
    "#2 within short & clear functions\n",
    "\n",
    "def arithmetic_mean(a, b):\n",
    "    return (a + b) / 2"
   ]
  },
  {
   "cell_type": "code",
   "execution_count": 17,
   "id": "4a84d82f",
   "metadata": {
    "ExecuteTime": {
     "end_time": "2024-06-04T20:31:02.358187Z",
     "start_time": "2024-06-04T20:31:02.352382Z"
    }
   },
   "outputs": [
    {
     "name": "stdout",
     "output_type": "stream",
     "text": [
      "[5, 4, 7, 4, 3]\n"
     ]
    }
   ],
   "source": [
    "#3 -- when short name is defined by the domain formula\n",
    "\n",
    "def binomial_distribution(n, p, size=1):\n",
    "    return [sum(random.random() < p for _ in range(n)) for _ in range(size)]\n",
    "\n",
    "\n",
    "n = 10\n",
    "p = 0.5\n",
    "print(binomial_distribution(n, p, size=5)) "
   ]
  },
  {
   "cell_type": "markdown",
   "id": "67623e74",
   "metadata": {
    "ExecuteTime": {
     "end_time": "2024-06-04T20:35:44.324515Z",
     "start_time": "2024-06-04T20:35:44.322139Z"
    }
   },
   "source": [
    "# pathlib.Path demo"
   ]
  },
  {
   "cell_type": "code",
   "execution_count": 18,
   "id": "fd8f217a",
   "metadata": {
    "ExecuteTime": {
     "end_time": "2024-06-04T20:36:31.995330Z",
     "start_time": "2024-06-04T20:36:31.990215Z"
    }
   },
   "outputs": [],
   "source": [
    "DATA_DIR.mkdir(exist_ok=True, parents=True)"
   ]
  },
  {
   "cell_type": "code",
   "execution_count": 19,
   "id": "5b0658f0",
   "metadata": {
    "ExecuteTime": {
     "end_time": "2024-06-04T20:37:02.696898Z",
     "start_time": "2024-06-04T20:37:02.691865Z"
    }
   },
   "outputs": [
    {
     "data": {
      "text/plain": [
       "PosixPath('/Users/avorobyov/_Repos/deepstudy5/jupyter_best_practices/data')"
      ]
     },
     "execution_count": 19,
     "metadata": {},
     "output_type": "execute_result"
    }
   ],
   "source": [
    "DATA_DIR.resolve()"
   ]
  },
  {
   "cell_type": "code",
   "execution_count": 20,
   "id": "cb5193e6",
   "metadata": {
    "ExecuteTime": {
     "end_time": "2024-06-04T20:37:07.622795Z",
     "start_time": "2024-06-04T20:37:07.618402Z"
    }
   },
   "outputs": [
    {
     "data": {
      "text/plain": [
       "PosixPath('/Users/avorobyov/_Repos/deepstudy5')"
      ]
     },
     "execution_count": 20,
     "metadata": {},
     "output_type": "execute_result"
    }
   ],
   "source": [
    "DATA_DIR.resolve().parent.parent"
   ]
  },
  {
   "cell_type": "code",
   "execution_count": 21,
   "id": "b01e74dd",
   "metadata": {
    "ExecuteTime": {
     "end_time": "2024-06-04T20:37:49.177181Z",
     "start_time": "2024-06-04T20:37:49.108801Z"
    }
   },
   "outputs": [],
   "source": [
    "df.to_parquet(DATA_DIR / 'dataset.parquet')\n"
   ]
  },
  {
   "cell_type": "markdown",
   "id": "5c75293b",
   "metadata": {},
   "source": [
    "# Logical blocks separation"
   ]
  },
  {
   "cell_type": "code",
   "execution_count": 22,
   "id": "33726ce0",
   "metadata": {
    "ExecuteTime": {
     "end_time": "2024-06-04T20:39:06.446616Z",
     "start_time": "2024-06-04T20:39:06.302114Z"
    }
   },
   "outputs": [
    {
     "name": "stderr",
     "output_type": "stream",
     "text": [
      "/var/folders/cj/rc440jj13_n1_rbv6sfljs0h0000gn/T/ipykernel_12943/2445940678.py:4: DeprecationWarning: Importing display from IPython.core.display is deprecated since IPython 7.14, please import from IPython display\n",
      "  from IPython.core.display import display, HTML\n"
     ]
    }
   ],
   "source": [
    "import pandas as pd\n",
    "from tqdm.auto import tqdm\n",
    "import time\n",
    "from IPython.core.display import display, HTML"
   ]
  },
  {
   "cell_type": "code",
   "execution_count": 23,
   "id": "f482490c",
   "metadata": {
    "ExecuteTime": {
     "end_time": "2024-06-04T20:42:06.466889Z",
     "start_time": "2024-06-04T20:42:01.185016Z"
    }
   },
   "outputs": [],
   "source": [
    "def create_driver(use_subprocess: bool):\n",
    "    options = uc.ChromeOptions()\n",
    "    if True:\n",
    "        options.add_argument(\"--disable-extensions\")\n",
    "        options.add_argument(\n",
    "            \"--user-agent=Mozilla/5.0 (Windows NT 10.0; Win64; x64) AppleWebKit/537.36 (KHTML, like Gecko) Chrome/113.0.5672.126 Safari/537.36\")\n",
    "        options.add_argument('--disable-blink-features=AutomationControlled')\n",
    "        options.add_argument('--no-sandbox')\n",
    "        options.add_argument('--blink-settings=imagesEnabled=false')\n",
    "\n",
    "    if True:\n",
    "        prefs = {\n",
    "            'download.prompt_for_download': False,\n",
    "            'download.directory_upgrade': True,\n",
    "            'disable-popup-blocking': True,\n",
    "            'safebrowsing.enabled': True,\n",
    "            'block_third_party_cookies': True,\n",
    "\n",
    "            # Disable downloading images\n",
    "            'profile.managed_default_content_settings.images': 2,\n",
    "        }\n",
    "        options.add_experimental_option('prefs', prefs)\n",
    "\n",
    "\n",
    "    print(\"Creating the driver\")\n",
    "    result = uc.Chrome(use_subprocess=use_subprocess, options=options, desired_capabilities=None)\n",
    "    return result\n",
    "\n",
    "\n",
    "    print(\"Creating the driver\")\n",
    "    result = uc.Chrome(use_subprocess=use_subprocess, options=options, desired_capabilities=None)\n",
    "    return result"
   ]
  },
  {
   "cell_type": "code",
   "execution_count": null,
   "id": "5d269943-55ed-42de-b3d7-1f943fa2ff14",
   "metadata": {},
   "outputs": [],
   "source": []
  }
 ],
 "metadata": {
  "kernelspec": {
   "display_name": "Python 3 (ipykernel)",
   "language": "python",
   "name": "python3"
  },
  "language_info": {
   "codemirror_mode": {
    "name": "ipython",
    "version": 3
   },
   "file_extension": ".py",
   "mimetype": "text/x-python",
   "name": "python",
   "nbconvert_exporter": "python",
   "pygments_lexer": "ipython3",
   "version": "3.10.0"
  }
 },
 "nbformat": 4,
 "nbformat_minor": 5
}
